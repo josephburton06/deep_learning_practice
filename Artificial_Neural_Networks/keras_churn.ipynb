{
 "cells": [
  {
   "cell_type": "markdown",
   "metadata": {},
   "source": [
    "### We will use a Keras deep learning model to predict churn for bank customers.\n",
    "\n",
    "### First, let's set up our environment."
   ]
  },
  {
   "cell_type": "code",
   "execution_count": 47,
   "metadata": {},
   "outputs": [],
   "source": [
    "import warnings\n",
    "warnings.filterwarnings(\"ignore\")\n",
    "\n",
    "import numpy as np\n",
    "import matplotlib.pyplot as plt\n",
    "import pandas as pd\n",
    "\n",
    "from sklearn.model_selection import train_test_split\n",
    "from sklearn.preprocessing import StandardScaler\n",
    "from sklearn.metrics import confusion_matrix\n",
    "from sklearn.preprocessing import LabelEncoder, OneHotEncoder\n",
    "from sklearn.metrics import confusion_m\n",
    "\n",
    "import keras\n",
    "from keras.models import Sequential\n",
    "from keras.layers import Dense\n",
    "\n",
    "import jb_helper_functions_prep\n",
    "from jb_helper_functions_prep import create_enc"
   ]
  },
  {
   "cell_type": "code",
   "execution_count": 34,
   "metadata": {},
   "outputs": [],
   "source": [
    "df = pd.read_csv('Churn_Modelling.csv')"
   ]
  },
  {
   "cell_type": "code",
   "execution_count": 35,
   "metadata": {},
   "outputs": [
    {
     "data": {
      "text/html": [
       "<div>\n",
       "<style scoped>\n",
       "    .dataframe tbody tr th:only-of-type {\n",
       "        vertical-align: middle;\n",
       "    }\n",
       "\n",
       "    .dataframe tbody tr th {\n",
       "        vertical-align: top;\n",
       "    }\n",
       "\n",
       "    .dataframe thead th {\n",
       "        text-align: right;\n",
       "    }\n",
       "</style>\n",
       "<table border=\"1\" class=\"dataframe\">\n",
       "  <thead>\n",
       "    <tr style=\"text-align: right;\">\n",
       "      <th></th>\n",
       "      <th>RowNumber</th>\n",
       "      <th>CustomerId</th>\n",
       "      <th>Surname</th>\n",
       "      <th>CreditScore</th>\n",
       "      <th>Geography</th>\n",
       "      <th>Gender</th>\n",
       "      <th>Age</th>\n",
       "      <th>Tenure</th>\n",
       "      <th>Balance</th>\n",
       "      <th>NumOfProducts</th>\n",
       "      <th>HasCrCard</th>\n",
       "      <th>IsActiveMember</th>\n",
       "      <th>EstimatedSalary</th>\n",
       "      <th>Exited</th>\n",
       "    </tr>\n",
       "  </thead>\n",
       "  <tbody>\n",
       "    <tr>\n",
       "      <th>0</th>\n",
       "      <td>1</td>\n",
       "      <td>15634602</td>\n",
       "      <td>Hargrave</td>\n",
       "      <td>619</td>\n",
       "      <td>France</td>\n",
       "      <td>Female</td>\n",
       "      <td>42</td>\n",
       "      <td>2</td>\n",
       "      <td>0.00</td>\n",
       "      <td>1</td>\n",
       "      <td>1</td>\n",
       "      <td>1</td>\n",
       "      <td>101348.88</td>\n",
       "      <td>1</td>\n",
       "    </tr>\n",
       "    <tr>\n",
       "      <th>1</th>\n",
       "      <td>2</td>\n",
       "      <td>15647311</td>\n",
       "      <td>Hill</td>\n",
       "      <td>608</td>\n",
       "      <td>Spain</td>\n",
       "      <td>Female</td>\n",
       "      <td>41</td>\n",
       "      <td>1</td>\n",
       "      <td>83807.86</td>\n",
       "      <td>1</td>\n",
       "      <td>0</td>\n",
       "      <td>1</td>\n",
       "      <td>112542.58</td>\n",
       "      <td>0</td>\n",
       "    </tr>\n",
       "    <tr>\n",
       "      <th>2</th>\n",
       "      <td>3</td>\n",
       "      <td>15619304</td>\n",
       "      <td>Onio</td>\n",
       "      <td>502</td>\n",
       "      <td>France</td>\n",
       "      <td>Female</td>\n",
       "      <td>42</td>\n",
       "      <td>8</td>\n",
       "      <td>159660.80</td>\n",
       "      <td>3</td>\n",
       "      <td>1</td>\n",
       "      <td>0</td>\n",
       "      <td>113931.57</td>\n",
       "      <td>1</td>\n",
       "    </tr>\n",
       "  </tbody>\n",
       "</table>\n",
       "</div>"
      ],
      "text/plain": [
       "   RowNumber  CustomerId   Surname  CreditScore Geography  Gender  Age  \\\n",
       "0          1    15634602  Hargrave          619    France  Female   42   \n",
       "1          2    15647311      Hill          608     Spain  Female   41   \n",
       "2          3    15619304      Onio          502    France  Female   42   \n",
       "\n",
       "   Tenure    Balance  NumOfProducts  HasCrCard  IsActiveMember  \\\n",
       "0       2       0.00              1          1               1   \n",
       "1       1   83807.86              1          0               1   \n",
       "2       8  159660.80              3          1               0   \n",
       "\n",
       "   EstimatedSalary  Exited  \n",
       "0        101348.88       1  \n",
       "1        112542.58       0  \n",
       "2        113931.57       1  "
      ]
     },
     "execution_count": 35,
     "metadata": {},
     "output_type": "execute_result"
    }
   ],
   "source": [
    "df.head(3)"
   ]
  },
  {
   "cell_type": "code",
   "execution_count": 36,
   "metadata": {},
   "outputs": [],
   "source": [
    "df = create_enc(df, ['Geography', 'Gender'])\n",
    "df = df[['CreditScore', 'Geography_enc',\n",
    "       'Gender_enc', 'Age', 'Tenure', 'Balance', 'NumOfProducts', 'HasCrCard',\n",
    "       'IsActiveMember', 'EstimatedSalary', 'Exited']]"
   ]
  },
  {
   "cell_type": "code",
   "execution_count": 38,
   "metadata": {},
   "outputs": [
    {
     "data": {
      "text/html": [
       "<div>\n",
       "<style scoped>\n",
       "    .dataframe tbody tr th:only-of-type {\n",
       "        vertical-align: middle;\n",
       "    }\n",
       "\n",
       "    .dataframe tbody tr th {\n",
       "        vertical-align: top;\n",
       "    }\n",
       "\n",
       "    .dataframe thead th {\n",
       "        text-align: right;\n",
       "    }\n",
       "</style>\n",
       "<table border=\"1\" class=\"dataframe\">\n",
       "  <thead>\n",
       "    <tr style=\"text-align: right;\">\n",
       "      <th></th>\n",
       "      <th>CreditScore</th>\n",
       "      <th>Geography_enc</th>\n",
       "      <th>Gender_enc</th>\n",
       "      <th>Age</th>\n",
       "      <th>Tenure</th>\n",
       "      <th>Balance</th>\n",
       "      <th>NumOfProducts</th>\n",
       "      <th>HasCrCard</th>\n",
       "      <th>IsActiveMember</th>\n",
       "      <th>EstimatedSalary</th>\n",
       "      <th>Exited</th>\n",
       "    </tr>\n",
       "  </thead>\n",
       "  <tbody>\n",
       "    <tr>\n",
       "      <th>0</th>\n",
       "      <td>619</td>\n",
       "      <td>0</td>\n",
       "      <td>0</td>\n",
       "      <td>42</td>\n",
       "      <td>2</td>\n",
       "      <td>0.00</td>\n",
       "      <td>1</td>\n",
       "      <td>1</td>\n",
       "      <td>1</td>\n",
       "      <td>101348.88</td>\n",
       "      <td>1</td>\n",
       "    </tr>\n",
       "    <tr>\n",
       "      <th>1</th>\n",
       "      <td>608</td>\n",
       "      <td>2</td>\n",
       "      <td>0</td>\n",
       "      <td>41</td>\n",
       "      <td>1</td>\n",
       "      <td>83807.86</td>\n",
       "      <td>1</td>\n",
       "      <td>0</td>\n",
       "      <td>1</td>\n",
       "      <td>112542.58</td>\n",
       "      <td>0</td>\n",
       "    </tr>\n",
       "    <tr>\n",
       "      <th>2</th>\n",
       "      <td>502</td>\n",
       "      <td>0</td>\n",
       "      <td>0</td>\n",
       "      <td>42</td>\n",
       "      <td>8</td>\n",
       "      <td>159660.80</td>\n",
       "      <td>3</td>\n",
       "      <td>1</td>\n",
       "      <td>0</td>\n",
       "      <td>113931.57</td>\n",
       "      <td>1</td>\n",
       "    </tr>\n",
       "  </tbody>\n",
       "</table>\n",
       "</div>"
      ],
      "text/plain": [
       "   CreditScore  Geography_enc  Gender_enc  Age  Tenure    Balance  \\\n",
       "0          619              0           0   42       2       0.00   \n",
       "1          608              2           0   41       1   83807.86   \n",
       "2          502              0           0   42       8  159660.80   \n",
       "\n",
       "   NumOfProducts  HasCrCard  IsActiveMember  EstimatedSalary  Exited  \n",
       "0              1          1               1        101348.88       1  \n",
       "1              1          0               1        112542.58       0  \n",
       "2              3          1               0        113931.57       1  "
      ]
     },
     "execution_count": 38,
     "metadata": {},
     "output_type": "execute_result"
    }
   ],
   "source": [
    "df.head(3)"
   ]
  },
  {
   "cell_type": "markdown",
   "metadata": {},
   "source": [
    "### For X, we drop the first few columns that are not needed.  We also encoded Geograpy and Gender to be able used as features.  We'll also need to standardize a few columns to better be used in the Keras model."
   ]
  },
  {
   "cell_type": "code",
   "execution_count": 39,
   "metadata": {},
   "outputs": [],
   "source": [
    "X = df.iloc[:, :-1].values\n",
    "y = df.iloc[:, -1].values"
   ]
  },
  {
   "cell_type": "code",
   "execution_count": 40,
   "metadata": {},
   "outputs": [
    {
     "data": {
      "text/plain": [
       "((10000, 10), (10000,))"
      ]
     },
     "execution_count": 40,
     "metadata": {},
     "output_type": "execute_result"
    }
   ],
   "source": [
    "X.shape, y.shape"
   ]
  },
  {
   "cell_type": "code",
   "execution_count": 41,
   "metadata": {},
   "outputs": [
    {
     "data": {
      "text/plain": [
       "array([[6.1900000e+02, 0.0000000e+00, 0.0000000e+00, 4.2000000e+01,\n",
       "        2.0000000e+00, 0.0000000e+00, 1.0000000e+00, 1.0000000e+00,\n",
       "        1.0000000e+00, 1.0134888e+05],\n",
       "       [6.0800000e+02, 2.0000000e+00, 0.0000000e+00, 4.1000000e+01,\n",
       "        1.0000000e+00, 8.3807860e+04, 1.0000000e+00, 0.0000000e+00,\n",
       "        1.0000000e+00, 1.1254258e+05],\n",
       "       [5.0200000e+02, 0.0000000e+00, 0.0000000e+00, 4.2000000e+01,\n",
       "        8.0000000e+00, 1.5966080e+05, 3.0000000e+00, 1.0000000e+00,\n",
       "        0.0000000e+00, 1.1393157e+05],\n",
       "       [6.9900000e+02, 0.0000000e+00, 0.0000000e+00, 3.9000000e+01,\n",
       "        1.0000000e+00, 0.0000000e+00, 2.0000000e+00, 0.0000000e+00,\n",
       "        0.0000000e+00, 9.3826630e+04],\n",
       "       [8.5000000e+02, 2.0000000e+00, 0.0000000e+00, 4.3000000e+01,\n",
       "        2.0000000e+00, 1.2551082e+05, 1.0000000e+00, 1.0000000e+00,\n",
       "        1.0000000e+00, 7.9084100e+04]])"
      ]
     },
     "execution_count": 41,
     "metadata": {},
     "output_type": "execute_result"
    }
   ],
   "source": [
    "X[:5]"
   ]
  },
  {
   "cell_type": "code",
   "execution_count": 42,
   "metadata": {},
   "outputs": [
    {
     "data": {
      "text/plain": [
       "array([1, 0, 1, 0, 0])"
      ]
     },
     "execution_count": 42,
     "metadata": {},
     "output_type": "execute_result"
    }
   ],
   "source": [
    "y[:5]"
   ]
  },
  {
   "cell_type": "code",
   "execution_count": 43,
   "metadata": {},
   "outputs": [],
   "source": [
    "X_train, X_test, y_train, y_test = train_test_split(X, y, test_size = 0.25, random_state = 0)"
   ]
  },
  {
   "cell_type": "markdown",
   "metadata": {},
   "source": [
    "### We'll scale the columns so the model can perform better.  We'll scale on the train and use that object to scale the unseen/test set."
   ]
  },
  {
   "cell_type": "code",
   "execution_count": 44,
   "metadata": {},
   "outputs": [],
   "source": [
    "sc = StandardScaler()\n",
    "X_train = sc.fit_transform(X_train)\n",
    "X_test = sc.transform(X_test)"
   ]
  },
  {
   "cell_type": "code",
   "execution_count": 51,
   "metadata": {},
   "outputs": [],
   "source": [
    "cf = Sequential()\n",
    "cf.add(Dense(output_dim=6, init='uniform', activation='relu', input_dim=10))\n",
    "cf.add(Dense(output_dim=6, init='uniform', activation='relu'))\n",
    "cf.add(Dense(output_dim=1, init='uniform', activation='sigmoid'))"
   ]
  },
  {
   "cell_type": "code",
   "execution_count": 52,
   "metadata": {},
   "outputs": [],
   "source": [
    "cf.compile(loss='binary_crossentropy', optimizer='adam', metrics=['accuracy'])"
   ]
  },
  {
   "cell_type": "code",
   "execution_count": 55,
   "metadata": {},
   "outputs": [
    {
     "name": "stdout",
     "output_type": "stream",
     "text": [
      "Epoch 1/50\n",
      "7500/7500 [==============================] - 0s 55us/step - loss: 0.4069 - acc: 0.8333\n",
      "Epoch 2/50\n",
      "7500/7500 [==============================] - 0s 49us/step - loss: 0.4068 - acc: 0.8333: 0s - loss: 0.4057 - acc: 0.8\n",
      "Epoch 3/50\n",
      "7500/7500 [==============================] - 0s 52us/step - loss: 0.4062 - acc: 0.8340\n",
      "Epoch 4/50\n",
      "7500/7500 [==============================] - 0s 49us/step - loss: 0.4057 - acc: 0.8347\n",
      "Epoch 5/50\n",
      "7500/7500 [==============================] - 0s 48us/step - loss: 0.4056 - acc: 0.8356\n",
      "Epoch 6/50\n",
      "7500/7500 [==============================] - 0s 49us/step - loss: 0.4056 - acc: 0.8336\n",
      "Epoch 7/50\n",
      "7500/7500 [==============================] - 0s 55us/step - loss: 0.4047 - acc: 0.8352\n",
      "Epoch 8/50\n",
      "7500/7500 [==============================] - 0s 48us/step - loss: 0.4043 - acc: 0.8337\n",
      "Epoch 9/50\n",
      "7500/7500 [==============================] - 0s 50us/step - loss: 0.4042 - acc: 0.8336\n",
      "Epoch 10/50\n",
      "7500/7500 [==============================] - 0s 49us/step - loss: 0.4031 - acc: 0.8347\n",
      "Epoch 11/50\n",
      "7500/7500 [==============================] - 0s 49us/step - loss: 0.4034 - acc: 0.8348\n",
      "Epoch 12/50\n",
      "7500/7500 [==============================] - 0s 51us/step - loss: 0.4029 - acc: 0.8339\n",
      "Epoch 13/50\n",
      "7500/7500 [==============================] - 0s 49us/step - loss: 0.4029 - acc: 0.8352\n",
      "Epoch 14/50\n",
      "7500/7500 [==============================] - 0s 50us/step - loss: 0.4027 - acc: 0.8349\n",
      "Epoch 15/50\n",
      "7500/7500 [==============================] - 0s 53us/step - loss: 0.4022 - acc: 0.8337\n",
      "Epoch 16/50\n",
      "7500/7500 [==============================] - 0s 52us/step - loss: 0.4023 - acc: 0.8335\n",
      "Epoch 17/50\n",
      "7500/7500 [==============================] - 0s 51us/step - loss: 0.4021 - acc: 0.8356\n",
      "Epoch 18/50\n",
      "7500/7500 [==============================] - 0s 51us/step - loss: 0.4027 - acc: 0.8340\n",
      "Epoch 19/50\n",
      "7500/7500 [==============================] - 0s 53us/step - loss: 0.4018 - acc: 0.8344\n",
      "Epoch 20/50\n",
      "7500/7500 [==============================] - 0s 58us/step - loss: 0.4015 - acc: 0.8361\n",
      "Epoch 21/50\n",
      "7500/7500 [==============================] - 0s 58us/step - loss: 0.4014 - acc: 0.8341\n",
      "Epoch 22/50\n",
      "7500/7500 [==============================] - 0s 50us/step - loss: 0.4017 - acc: 0.8347\n",
      "Epoch 23/50\n",
      "7500/7500 [==============================] - 0s 53us/step - loss: 0.4015 - acc: 0.8343\n",
      "Epoch 24/50\n",
      "7500/7500 [==============================] - 0s 46us/step - loss: 0.4020 - acc: 0.8347\n",
      "Epoch 25/50\n",
      "7500/7500 [==============================] - 0s 53us/step - loss: 0.4014 - acc: 0.8351\n",
      "Epoch 26/50\n",
      "7500/7500 [==============================] - 0s 50us/step - loss: 0.4015 - acc: 0.8345\n",
      "Epoch 27/50\n",
      "7500/7500 [==============================] - 0s 47us/step - loss: 0.4014 - acc: 0.8352\n",
      "Epoch 28/50\n",
      "7500/7500 [==============================] - 0s 50us/step - loss: 0.4010 - acc: 0.8347\n",
      "Epoch 29/50\n",
      "7500/7500 [==============================] - 0s 49us/step - loss: 0.4011 - acc: 0.8360\n",
      "Epoch 30/50\n",
      "7500/7500 [==============================] - 0s 49us/step - loss: 0.4013 - acc: 0.8363\n",
      "Epoch 31/50\n",
      "7500/7500 [==============================] - 0s 52us/step - loss: 0.4011 - acc: 0.8347: 0s - loss: 0.3982 - acc: 0.83\n",
      "Epoch 32/50\n",
      "7500/7500 [==============================] - 0s 52us/step - loss: 0.4010 - acc: 0.8339\n",
      "Epoch 33/50\n",
      "7500/7500 [==============================] - 0s 49us/step - loss: 0.4008 - acc: 0.8352\n",
      "Epoch 34/50\n",
      "7500/7500 [==============================] - 0s 60us/step - loss: 0.4010 - acc: 0.8349\n",
      "Epoch 35/50\n",
      "7500/7500 [==============================] - 0s 57us/step - loss: 0.4011 - acc: 0.8353\n",
      "Epoch 36/50\n",
      "7500/7500 [==============================] - 0s 47us/step - loss: 0.4009 - acc: 0.8352\n",
      "Epoch 37/50\n",
      "7500/7500 [==============================] - 0s 50us/step - loss: 0.4008 - acc: 0.8355\n",
      "Epoch 38/50\n",
      "7500/7500 [==============================] - 0s 49us/step - loss: 0.4007 - acc: 0.8344\n",
      "Epoch 39/50\n",
      "7500/7500 [==============================] - 0s 49us/step - loss: 0.4009 - acc: 0.8361\n",
      "Epoch 40/50\n",
      "7500/7500 [==============================] - 0s 53us/step - loss: 0.4007 - acc: 0.8349\n",
      "Epoch 41/50\n",
      "7500/7500 [==============================] - 0s 50us/step - loss: 0.4006 - acc: 0.8339\n",
      "Epoch 42/50\n",
      "7500/7500 [==============================] - 0s 48us/step - loss: 0.4004 - acc: 0.8333\n",
      "Epoch 43/50\n",
      "7500/7500 [==============================] - 0s 54us/step - loss: 0.4006 - acc: 0.8351\n",
      "Epoch 44/50\n",
      "7500/7500 [==============================] - 0s 59us/step - loss: 0.4004 - acc: 0.8337\n",
      "Epoch 45/50\n",
      "7500/7500 [==============================] - 0s 52us/step - loss: 0.4004 - acc: 0.8343\n",
      "Epoch 46/50\n",
      "7500/7500 [==============================] - 0s 48us/step - loss: 0.4005 - acc: 0.8351\n",
      "Epoch 47/50\n",
      "7500/7500 [==============================] - 0s 49us/step - loss: 0.4001 - acc: 0.8353\n",
      "Epoch 48/50\n",
      "7500/7500 [==============================] - 0s 57us/step - loss: 0.4006 - acc: 0.8348\n",
      "Epoch 49/50\n",
      "7500/7500 [==============================] - 0s 57us/step - loss: 0.4004 - acc: 0.8352\n",
      "Epoch 50/50\n",
      "7500/7500 [==============================] - 0s 50us/step - loss: 0.4002 - acc: 0.8355\n"
     ]
    },
    {
     "data": {
      "text/plain": [
       "<keras.callbacks.History at 0x1a2be235c0>"
      ]
     },
     "execution_count": 55,
     "metadata": {},
     "output_type": "execute_result"
    }
   ],
   "source": [
    "cf.fit(X_train, y_train, nb_epoch=50, batch_size=20)"
   ]
  },
  {
   "cell_type": "code",
   "execution_count": 56,
   "metadata": {},
   "outputs": [
    {
     "name": "stdout",
     "output_type": "stream",
     "text": [
      "10000/10000 [==============================] - 0s 13us/step\n",
      "acc: 79.63%\n"
     ]
    }
   ],
   "source": [
    "scores = cf.evaluate(X, y)\n",
    "print('%s: %.2f%%' % (cf.metrics_names[1], scores[1]*100))"
   ]
  },
  {
   "cell_type": "code",
   "execution_count": 57,
   "metadata": {},
   "outputs": [],
   "source": [
    "y_pred = cf.predict(X_test)"
   ]
  },
  {
   "cell_type": "code",
   "execution_count": 58,
   "metadata": {},
   "outputs": [
    {
     "ename": "ValueError",
     "evalue": "Classification metrics can't handle a mix of binary and continuous targets",
     "output_type": "error",
     "traceback": [
      "\u001b[0;31m---------------------------------------------------------------------------\u001b[0m",
      "\u001b[0;31mValueError\u001b[0m                                Traceback (most recent call last)",
      "\u001b[0;32m<ipython-input-58-f3c243426ad0>\u001b[0m in \u001b[0;36m<module>\u001b[0;34m\u001b[0m\n\u001b[0;32m----> 1\u001b[0;31m \u001b[0mcm\u001b[0m \u001b[0;34m=\u001b[0m \u001b[0mconfusion_matrix\u001b[0m\u001b[0;34m(\u001b[0m\u001b[0my_test\u001b[0m\u001b[0;34m,\u001b[0m \u001b[0my_pred\u001b[0m\u001b[0;34m)\u001b[0m\u001b[0;34m\u001b[0m\u001b[0;34m\u001b[0m\u001b[0m\n\u001b[0m",
      "\u001b[0;32m/usr/local/anaconda3/lib/python3.7/site-packages/sklearn/metrics/classification.py\u001b[0m in \u001b[0;36mconfusion_matrix\u001b[0;34m(y_true, y_pred, labels, sample_weight)\u001b[0m\n\u001b[1;32m    251\u001b[0m \u001b[0;34m\u001b[0m\u001b[0m\n\u001b[1;32m    252\u001b[0m     \"\"\"\n\u001b[0;32m--> 253\u001b[0;31m     \u001b[0my_type\u001b[0m\u001b[0;34m,\u001b[0m \u001b[0my_true\u001b[0m\u001b[0;34m,\u001b[0m \u001b[0my_pred\u001b[0m \u001b[0;34m=\u001b[0m \u001b[0m_check_targets\u001b[0m\u001b[0;34m(\u001b[0m\u001b[0my_true\u001b[0m\u001b[0;34m,\u001b[0m \u001b[0my_pred\u001b[0m\u001b[0;34m)\u001b[0m\u001b[0;34m\u001b[0m\u001b[0;34m\u001b[0m\u001b[0m\n\u001b[0m\u001b[1;32m    254\u001b[0m     \u001b[0;32mif\u001b[0m \u001b[0my_type\u001b[0m \u001b[0;32mnot\u001b[0m \u001b[0;32min\u001b[0m \u001b[0;34m(\u001b[0m\u001b[0;34m\"binary\"\u001b[0m\u001b[0;34m,\u001b[0m \u001b[0;34m\"multiclass\"\u001b[0m\u001b[0;34m)\u001b[0m\u001b[0;34m:\u001b[0m\u001b[0;34m\u001b[0m\u001b[0;34m\u001b[0m\u001b[0m\n\u001b[1;32m    255\u001b[0m         \u001b[0;32mraise\u001b[0m \u001b[0mValueError\u001b[0m\u001b[0;34m(\u001b[0m\u001b[0;34m\"%s is not supported\"\u001b[0m \u001b[0;34m%\u001b[0m \u001b[0my_type\u001b[0m\u001b[0;34m)\u001b[0m\u001b[0;34m\u001b[0m\u001b[0;34m\u001b[0m\u001b[0m\n",
      "\u001b[0;32m/usr/local/anaconda3/lib/python3.7/site-packages/sklearn/metrics/classification.py\u001b[0m in \u001b[0;36m_check_targets\u001b[0;34m(y_true, y_pred)\u001b[0m\n\u001b[1;32m     79\u001b[0m     \u001b[0;32mif\u001b[0m \u001b[0mlen\u001b[0m\u001b[0;34m(\u001b[0m\u001b[0my_type\u001b[0m\u001b[0;34m)\u001b[0m \u001b[0;34m>\u001b[0m \u001b[0;36m1\u001b[0m\u001b[0;34m:\u001b[0m\u001b[0;34m\u001b[0m\u001b[0;34m\u001b[0m\u001b[0m\n\u001b[1;32m     80\u001b[0m         raise ValueError(\"Classification metrics can't handle a mix of {0} \"\n\u001b[0;32m---> 81\u001b[0;31m                          \"and {1} targets\".format(type_true, type_pred))\n\u001b[0m\u001b[1;32m     82\u001b[0m \u001b[0;34m\u001b[0m\u001b[0m\n\u001b[1;32m     83\u001b[0m     \u001b[0;31m# We can't have more than one value on y_type => The set is no more needed\u001b[0m\u001b[0;34m\u001b[0m\u001b[0;34m\u001b[0m\u001b[0;34m\u001b[0m\u001b[0m\n",
      "\u001b[0;31mValueError\u001b[0m: Classification metrics can't handle a mix of binary and continuous targets"
     ]
    }
   ],
   "source": [
    "cm = confusion_matrix(y_test, y_pred)"
   ]
  },
  {
   "cell_type": "code",
   "execution_count": null,
   "metadata": {},
   "outputs": [],
   "source": []
  },
  {
   "cell_type": "code",
   "execution_count": null,
   "metadata": {},
   "outputs": [],
   "source": []
  },
  {
   "cell_type": "code",
   "execution_count": null,
   "metadata": {},
   "outputs": [],
   "source": []
  },
  {
   "cell_type": "code",
   "execution_count": null,
   "metadata": {},
   "outputs": [],
   "source": []
  },
  {
   "cell_type": "code",
   "execution_count": null,
   "metadata": {},
   "outputs": [],
   "source": []
  },
  {
   "cell_type": "code",
   "execution_count": null,
   "metadata": {},
   "outputs": [],
   "source": []
  },
  {
   "cell_type": "code",
   "execution_count": null,
   "metadata": {},
   "outputs": [],
   "source": []
  },
  {
   "cell_type": "code",
   "execution_count": null,
   "metadata": {},
   "outputs": [],
   "source": []
  },
  {
   "cell_type": "code",
   "execution_count": null,
   "metadata": {},
   "outputs": [],
   "source": []
  },
  {
   "cell_type": "code",
   "execution_count": null,
   "metadata": {},
   "outputs": [],
   "source": []
  },
  {
   "cell_type": "code",
   "execution_count": null,
   "metadata": {},
   "outputs": [],
   "source": []
  },
  {
   "cell_type": "code",
   "execution_count": null,
   "metadata": {},
   "outputs": [],
   "source": []
  },
  {
   "cell_type": "code",
   "execution_count": null,
   "metadata": {},
   "outputs": [],
   "source": []
  },
  {
   "cell_type": "code",
   "execution_count": null,
   "metadata": {},
   "outputs": [],
   "source": []
  },
  {
   "cell_type": "code",
   "execution_count": null,
   "metadata": {},
   "outputs": [],
   "source": []
  },
  {
   "cell_type": "code",
   "execution_count": null,
   "metadata": {},
   "outputs": [],
   "source": []
  },
  {
   "cell_type": "code",
   "execution_count": null,
   "metadata": {},
   "outputs": [],
   "source": []
  },
  {
   "cell_type": "code",
   "execution_count": null,
   "metadata": {},
   "outputs": [],
   "source": []
  },
  {
   "cell_type": "code",
   "execution_count": null,
   "metadata": {},
   "outputs": [],
   "source": []
  },
  {
   "cell_type": "code",
   "execution_count": null,
   "metadata": {},
   "outputs": [],
   "source": []
  },
  {
   "cell_type": "code",
   "execution_count": null,
   "metadata": {},
   "outputs": [],
   "source": []
  },
  {
   "cell_type": "code",
   "execution_count": null,
   "metadata": {},
   "outputs": [],
   "source": []
  },
  {
   "cell_type": "code",
   "execution_count": null,
   "metadata": {},
   "outputs": [],
   "source": []
  }
 ],
 "metadata": {
  "kernelspec": {
   "display_name": "Python 3",
   "language": "python",
   "name": "python3"
  },
  "language_info": {
   "codemirror_mode": {
    "name": "ipython",
    "version": 3
   },
   "file_extension": ".py",
   "mimetype": "text/x-python",
   "name": "python",
   "nbconvert_exporter": "python",
   "pygments_lexer": "ipython3",
   "version": "3.7.1"
  }
 },
 "nbformat": 4,
 "nbformat_minor": 2
}
